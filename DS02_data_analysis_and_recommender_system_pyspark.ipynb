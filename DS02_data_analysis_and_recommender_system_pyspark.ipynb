{
  "nbformat": 4,
  "nbformat_minor": 0,
  "metadata": {
    "colab": {
      "name": "DS02_data_analysis_and_recommender_system_pyspark.ipynb",
      "provenance": [],
      "collapsed_sections": [],
      "include_colab_link": true
    },
    "kernelspec": {
      "name": "python3",
      "display_name": "Python 3"
    }
  },
  "cells": [
    {
      "cell_type": "markdown",
      "metadata": {
        "id": "view-in-github",
        "colab_type": "text"
      },
      "source": [
        "<a href=\"https://colab.research.google.com/github/afifrizkyandika11551100310/DS02_Project/blob/main/DS02_data_analysis_and_recommender_system_pyspark.ipynb\" target=\"_parent\"><img src=\"https://colab.research.google.com/assets/colab-badge.svg\" alt=\"Open In Colab\"/></a>"
      ]
    },
    {
      "cell_type": "markdown",
      "metadata": {
        "id": "jPyDpDqvZuLo"
      },
      "source": [
        "# **Data Analysis and Recommender System using Pyspark**\n",
        "*  BY : **M Afif Rizky A**"
      ]
    },
    {
      "cell_type": "markdown",
      "source": [
        "## **Data Analysis**"
      ],
      "metadata": {
        "id": "fcfepCzW_tW5"
      }
    },
    {
      "cell_type": "markdown",
      "metadata": {
        "id": "cs9EInKyWicZ"
      },
      "source": [
        "### **Task 1** : \n",
        "Installing pyspark module"
      ]
    },
    {
      "cell_type": "code",
      "metadata": {
        "id": "LJq2nzUKWujx",
        "colab": {
          "base_uri": "https://localhost:8080/"
        },
        "outputId": "cef6c684-af62-4fe8-8845-b2aa62876760"
      },
      "source": [
        "pip install pyspark"
      ],
      "execution_count": null,
      "outputs": [
        {
          "output_type": "stream",
          "name": "stdout",
          "text": [
            "Collecting pyspark\n",
            "  Downloading pyspark-3.2.1.tar.gz (281.4 MB)\n",
            "\u001b[K     |████████████████████████████████| 281.4 MB 32 kB/s \n",
            "\u001b[?25hCollecting py4j==0.10.9.3\n",
            "  Downloading py4j-0.10.9.3-py2.py3-none-any.whl (198 kB)\n",
            "\u001b[K     |████████████████████████████████| 198 kB 46.6 MB/s \n",
            "\u001b[?25hBuilding wheels for collected packages: pyspark\n",
            "  Building wheel for pyspark (setup.py) ... \u001b[?25l\u001b[?25hdone\n",
            "  Created wheel for pyspark: filename=pyspark-3.2.1-py2.py3-none-any.whl size=281853642 sha256=ae1e73b8286d25717c959a2f2de133bcbb1dca2e42e1b481b23e1446daa841d5\n",
            "  Stored in directory: /root/.cache/pip/wheels/9f/f5/07/7cd8017084dce4e93e84e92efd1e1d5334db05f2e83bcef74f\n",
            "Successfully built pyspark\n",
            "Installing collected packages: py4j, pyspark\n",
            "Successfully installed py4j-0.10.9.3 pyspark-3.2.1\n"
          ]
        }
      ]
    },
    {
      "cell_type": "markdown",
      "metadata": {
        "id": "dVNAlw2jWiWb"
      },
      "source": [
        "Importing the modules "
      ]
    },
    {
      "cell_type": "code",
      "metadata": {
        "id": "gS3YIWJiW7I3"
      },
      "source": [
        "from pyspark.sql import SparkSession\n",
        "from pyspark.sql.functions import count, desc , col, max, struct\n",
        "import matplotlib.pyplot as plt"
      ],
      "execution_count": null,
      "outputs": []
    },
    {
      "cell_type": "markdown",
      "metadata": {
        "id": "RKuIUYLwSkNP"
      },
      "source": [
        "creating spark session"
      ]
    },
    {
      "cell_type": "code",
      "metadata": {
        "id": "XXSZBvRgSnCN",
        "cellView": "both"
      },
      "source": [
        "spark = SparkSession.builder.appName('spark_app').getOrCreate()"
      ],
      "execution_count": null,
      "outputs": []
    },
    {
      "cell_type": "markdown",
      "metadata": {
        "id": "vv_SKqr8T9mT"
      },
      "source": [
        "### **Task 2** : \n",
        "importing the *Listenings.csv* file: "
      ]
    },
    {
      "cell_type": "code",
      "metadata": {
        "id": "gK22lJDRTuKY"
      },
      "source": [
        "df01_path = '/content/listenings.csv' # create the path of dataset\n",
        "# read path dataset \n",
        "df01 = spark.read.format('csv').option('inferSchema', True).option('header', True).load(df01_path) "
      ],
      "execution_count": null,
      "outputs": []
    },
    {
      "cell_type": "markdown",
      "metadata": {
        "id": "s1i6KVshykdn"
      },
      "source": [
        "let's check the data:"
      ]
    },
    {
      "cell_type": "code",
      "metadata": {
        "id": "5Ji0zViUyjUE",
        "colab": {
          "base_uri": "https://localhost:8080/"
        },
        "outputId": "6c19cc2f-9972-4829-9888-c3e617de9b99"
      },
      "source": [
        "df01.show()"
      ],
      "execution_count": null,
      "outputs": [
        {
          "output_type": "stream",
          "name": "stdout",
          "text": [
            "+-----------+-------------+--------------------+---------------+--------------------+\n",
            "|    user_id|         date|               track|         artist|               album|\n",
            "+-----------+-------------+--------------------+---------------+--------------------+\n",
            "|000Silenced|1299680100000|           Price Tag|       Jessie J|         Who You Are|\n",
            "|000Silenced|1299679920000|Price Tag (Acoust...|       Jessie J|           Price Tag|\n",
            "|000Silenced|1299679440000|Be Mine! (Ballad ...|          Robyn|            Be Mine!|\n",
            "|000Silenced|1299679200000|            Acapella|          Kelis|            Acapella|\n",
            "|000Silenced|1299675660000|   I'm Not Invisible|      The Tease|   I'm Not Invisible|\n",
            "|000Silenced|1297511400000|Bounce (Feat NORE...|       MSTRKRFT|         Fist of God|\n",
            "|000Silenced|1294498440000|Don't Stop The Mu...|        Rihanna|Addicted 2 Bassli...|\n",
            "|000Silenced|1292438340000|               ObZen|      Meshuggah|               ObZen|\n",
            "|000Silenced|1292437740000|   Yama's Messengers|         Gojira|The Way of All Flesh|\n",
            "|000Silenced|1292436360000|On the Brink of E...|   Napalm Death|Time Waits For No...|\n",
            "|000Silenced|1292436360000|On the Brink of E...|   Napalm Death|Time Waits For No...|\n",
            "|000Silenced|1292435940000|        In Deference|   Napalm Death|      Smear Campaign|\n",
            "|000Silenced|1292434920000|      Post(?)organic|    Decapitated|Organic Hallucinosis|\n",
            "|000Silenced|1292434560000|        Mind Feeders|   Dom & Roland| No Strings Attached|\n",
            "|000Silenced|1292434320000|Necrosadistic War...|Cannibal Corpse|                Kill|\n",
            "|000Silenced|1292365560000|     Dance All Night|   Dom & Roland|          Chronology|\n",
            "|000Silenced|1292365260000|          Late Night|   Dom & Roland|          Chronology|\n",
            "|000Silenced|1292365020000|          Freak Seen|   Dom & Roland|          Chronology|\n",
            "|000Silenced|1292364720000|Paradrenasite (Hi...|   Dom & Roland|          Chronology|\n",
            "|000Silenced|1292364300000|               Rhino|   Dom & Roland|          Chronology|\n",
            "+-----------+-------------+--------------------+---------------+--------------------+\n",
            "only showing top 20 rows\n",
            "\n"
          ]
        }
      ]
    },
    {
      "cell_type": "markdown",
      "metadata": {
        "id": "HS6wd2d_woNC"
      },
      "source": [
        "delete useless columns:"
      ]
    },
    {
      "cell_type": "code",
      "metadata": {
        "id": "pIMzBAglwtNP"
      },
      "source": [
        "df01 = df01.drop('date')"
      ],
      "execution_count": null,
      "outputs": []
    },
    {
      "cell_type": "markdown",
      "metadata": {
        "id": "MwpJJeWa4qmn"
      },
      "source": [
        "drop the null rows:"
      ]
    },
    {
      "cell_type": "code",
      "metadata": {
        "id": "Botf6-Vb4uqs"
      },
      "source": [
        "df01 = df01.na.drop()"
      ],
      "execution_count": null,
      "outputs": []
    },
    {
      "cell_type": "markdown",
      "metadata": {
        "id": "tTN6jr3K4xkF"
      },
      "source": [
        "check the dataset again:"
      ]
    },
    {
      "cell_type": "code",
      "metadata": {
        "id": "JDp_rdEY40u3",
        "colab": {
          "base_uri": "https://localhost:8080/"
        },
        "outputId": "bd174837-78ce-4c47-9410-7ba8d895fe51"
      },
      "source": [
        "df01.show()"
      ],
      "execution_count": null,
      "outputs": [
        {
          "output_type": "stream",
          "name": "stdout",
          "text": [
            "+-----------+--------------------+---------------+--------------------+\n",
            "|    user_id|               track|         artist|               album|\n",
            "+-----------+--------------------+---------------+--------------------+\n",
            "|000Silenced|           Price Tag|       Jessie J|         Who You Are|\n",
            "|000Silenced|Price Tag (Acoust...|       Jessie J|           Price Tag|\n",
            "|000Silenced|Be Mine! (Ballad ...|          Robyn|            Be Mine!|\n",
            "|000Silenced|            Acapella|          Kelis|            Acapella|\n",
            "|000Silenced|   I'm Not Invisible|      The Tease|   I'm Not Invisible|\n",
            "|000Silenced|Bounce (Feat NORE...|       MSTRKRFT|         Fist of God|\n",
            "|000Silenced|Don't Stop The Mu...|        Rihanna|Addicted 2 Bassli...|\n",
            "|000Silenced|               ObZen|      Meshuggah|               ObZen|\n",
            "|000Silenced|   Yama's Messengers|         Gojira|The Way of All Flesh|\n",
            "|000Silenced|On the Brink of E...|   Napalm Death|Time Waits For No...|\n",
            "|000Silenced|On the Brink of E...|   Napalm Death|Time Waits For No...|\n",
            "|000Silenced|        In Deference|   Napalm Death|      Smear Campaign|\n",
            "|000Silenced|      Post(?)organic|    Decapitated|Organic Hallucinosis|\n",
            "|000Silenced|        Mind Feeders|   Dom & Roland| No Strings Attached|\n",
            "|000Silenced|Necrosadistic War...|Cannibal Corpse|                Kill|\n",
            "|000Silenced|     Dance All Night|   Dom & Roland|          Chronology|\n",
            "|000Silenced|          Late Night|   Dom & Roland|          Chronology|\n",
            "|000Silenced|          Freak Seen|   Dom & Roland|          Chronology|\n",
            "|000Silenced|Paradrenasite (Hi...|   Dom & Roland|          Chronology|\n",
            "|000Silenced|               Rhino|   Dom & Roland|          Chronology|\n",
            "+-----------+--------------------+---------------+--------------------+\n",
            "only showing top 20 rows\n",
            "\n"
          ]
        }
      ]
    },
    {
      "cell_type": "markdown",
      "metadata": {
        "id": "Z7nKCYoZltnv"
      },
      "source": [
        "see the schema: "
      ]
    },
    {
      "cell_type": "code",
      "metadata": {
        "id": "qVg1jt1OyWdh",
        "colab": {
          "base_uri": "https://localhost:8080/"
        },
        "outputId": "f7aa6839-9dee-4d51-f319-ac40d10b4c29"
      },
      "source": [
        "df01.printSchema()"
      ],
      "execution_count": null,
      "outputs": [
        {
          "output_type": "stream",
          "name": "stdout",
          "text": [
            "root\n",
            " |-- user_id: string (nullable = true)\n",
            " |-- track: string (nullable = true)\n",
            " |-- artist: string (nullable = true)\n",
            " |-- album: string (nullable = true)\n",
            "\n"
          ]
        }
      ]
    },
    {
      "cell_type": "markdown",
      "metadata": {
        "id": "JMkQsQt2xSb5"
      },
      "source": [
        "see the shape of our dataframe: "
      ]
    },
    {
      "cell_type": "code",
      "metadata": {
        "id": "6POkV3YFmh6b",
        "colab": {
          "base_uri": "https://localhost:8080/"
        },
        "outputId": "73bcb02a-15ef-42a0-cd66-36586ab96ab2"
      },
      "source": [
        "shape = (df01.count(), len(df01.columns))\n",
        "print('data dimension = ', shape)"
      ],
      "execution_count": null,
      "outputs": [
        {
          "output_type": "stream",
          "name": "stdout",
          "text": [
            "data dimension =  (620901, 4)\n"
          ]
        }
      ]
    },
    {
      "cell_type": "markdown",
      "metadata": {
        "id": "XMD0DhFl2FEJ"
      },
      "source": [
        "### **Task 3**:\n",
        "\n",
        "**Query #0:**\n",
        "select two columns: track and artist"
      ]
    },
    {
      "cell_type": "code",
      "metadata": {
        "id": "FZTdA5wn2TZy",
        "colab": {
          "base_uri": "https://localhost:8080/"
        },
        "outputId": "14545d5c-2e68-49b9-d8e6-4bcbc62ced34"
      },
      "source": [
        "q0 = df01.select('track', 'artist')\n",
        "q0.show()"
      ],
      "execution_count": null,
      "outputs": [
        {
          "output_type": "stream",
          "name": "stdout",
          "text": [
            "+--------------------+---------------+\n",
            "|               track|         artist|\n",
            "+--------------------+---------------+\n",
            "|           Price Tag|       Jessie J|\n",
            "|Price Tag (Acoust...|       Jessie J|\n",
            "|Be Mine! (Ballad ...|          Robyn|\n",
            "|            Acapella|          Kelis|\n",
            "|   I'm Not Invisible|      The Tease|\n",
            "|Bounce (Feat NORE...|       MSTRKRFT|\n",
            "|Don't Stop The Mu...|        Rihanna|\n",
            "|               ObZen|      Meshuggah|\n",
            "|   Yama's Messengers|         Gojira|\n",
            "|On the Brink of E...|   Napalm Death|\n",
            "|On the Brink of E...|   Napalm Death|\n",
            "|        In Deference|   Napalm Death|\n",
            "|      Post(?)organic|    Decapitated|\n",
            "|        Mind Feeders|   Dom & Roland|\n",
            "|Necrosadistic War...|Cannibal Corpse|\n",
            "|     Dance All Night|   Dom & Roland|\n",
            "|          Late Night|   Dom & Roland|\n",
            "|          Freak Seen|   Dom & Roland|\n",
            "|Paradrenasite (Hi...|   Dom & Roland|\n",
            "|               Rhino|   Dom & Roland|\n",
            "+--------------------+---------------+\n",
            "only showing top 20 rows\n",
            "\n"
          ]
        }
      ]
    },
    {
      "cell_type": "markdown",
      "metadata": {
        "id": "QRcgXOFs2hjw"
      },
      "source": [
        "**Query #1**: find all of the records of those users who have listened to ***Rihanna***"
      ]
    },
    {
      "cell_type": "code",
      "metadata": {
        "id": "ICyiTMVnppLw",
        "colab": {
          "base_uri": "https://localhost:8080/"
        },
        "outputId": "255f060b-5608-48c9-98f2-1b4125d2dabb"
      },
      "source": [
        "q1 = df01.select('*').filter(df01.artist == 'Rihanna')\n",
        "q1.show()"
      ],
      "execution_count": null,
      "outputs": [
        {
          "output_type": "stream",
          "name": "stdout",
          "text": [
            "+-----------+--------------------+-------+--------------------+\n",
            "|    user_id|               track| artist|               album|\n",
            "+-----------+--------------------+-------+--------------------+\n",
            "|000Silenced|Don't Stop The Mu...|Rihanna|Addicted 2 Bassli...|\n",
            "|000Silenced|           Disturbia|Rihanna|Good Girl Gone Ba...|\n",
            "|00williamsl|   Hatin On The Club|Rihanna|              Random|\n",
            "|00williamsl|   Hatin On The Club|Rihanna|              Random|\n",
            "|00williamsl|         Complicated|Rihanna|                Loud|\n",
            "|00williamsl|What's My Name (f...|Rihanna|                Loud|\n",
            "|00williamsl|Kanye West feat R...|Rihanna|                Loud|\n",
            "|    0502008|Only Girl (In the...|Rihanna|                Loud|\n",
            "|      0rdos|Pon De Replay (Re...|Rihanna|    Music of the Sun|\n",
            "|      0rdos|          Now I Know|Rihanna|    Music of the Sun|\n",
            "|      0rdos|There's a Thug in...|Rihanna|    Music of the Sun|\n",
            "|      0rdos|                Rush|Rihanna|    Music of the Sun|\n",
            "|      0rdos|              Let Me|Rihanna|    Music of the Sun|\n",
            "|      0rdos|    Music of the Sun|Rihanna|    Music of the Sun|\n",
            "|      0rdos|     Willing to Wait|Rihanna|    Music of the Sun|\n",
            "|      0rdos|       The Last Time|Rihanna|    Music of the Sun|\n",
            "|      0rdos|If It's Lovin' Th...|Rihanna|    Music of the Sun|\n",
            "|      0rdos|     Here I Go Again|Rihanna|    Music of the Sun|\n",
            "|      0rdos|       Pon de Replay|Rihanna|    Music of the Sun|\n",
            "|      0rdos|                 Cry|Rihanna|  Good Girl Gone Bad|\n",
            "+-----------+--------------------+-------+--------------------+\n",
            "only showing top 20 rows\n",
            "\n"
          ]
        }
      ]
    },
    {
      "cell_type": "markdown",
      "metadata": {
        "id": "I0IafeyvFU9O"
      },
      "source": [
        "**Query #2:** find top 10 users who are fan of ***Rihanna***"
      ]
    },
    {
      "cell_type": "code",
      "metadata": {
        "id": "3-hM9kMm7JmI",
        "colab": {
          "base_uri": "https://localhost:8080/"
        },
        "outputId": "31d54ef2-191f-40ca-ce50-c0e72aa8d130"
      },
      "source": [
        "q2 = df01.select('user_id').filter(df01.artist == 'Rihanna').groupby('user_id').agg(count('user_id').alias('count')).orderBy(desc('count')).limit(10)\n",
        "q2.show()"
      ],
      "execution_count": null,
      "outputs": [
        {
          "output_type": "stream",
          "name": "stdout",
          "text": [
            "+---------------+-----+\n",
            "|        user_id|count|\n",
            "+---------------+-----+\n",
            "|           adxx|  164|\n",
            "|    Aims_rose18|  103|\n",
            "|     acidbubble|   74|\n",
            "|   alishashasha|   53|\n",
            "|       AmenGaGa|   36|\n",
            "|          0rdos|   36|\n",
            "|amyyyyyyyyyyyyy|   33|\n",
            "|   a_c_saunders|   32|\n",
            "|      alfiefeet|   29|\n",
            "|       adgelaar|   24|\n",
            "+---------------+-----+\n",
            "\n"
          ]
        }
      ]
    },
    {
      "cell_type": "markdown",
      "metadata": {
        "id": "hgAAl6aAcp41"
      },
      "source": [
        "**Query #3:** find top 10 famous tracks "
      ]
    },
    {
      "cell_type": "code",
      "metadata": {
        "id": "qlh3IUzfJ3_I",
        "colab": {
          "base_uri": "https://localhost:8080/"
        },
        "outputId": "f39d6b79-5f2e-4c5b-e77b-acae54dfd829"
      },
      "source": [
        "q3 = df01.select('artist', 'track').groupby('artist', 'track').agg(count('*').alias('count')).orderBy(desc('count')).limit(10)\n",
        "q3.show()"
      ],
      "execution_count": null,
      "outputs": [
        {
          "output_type": "stream",
          "name": "stdout",
          "text": [
            "+------------------+-----------------+-----+\n",
            "|            artist|            track|count|\n",
            "+------------------+-----------------+-----+\n",
            "|              Zayn|       PILLOWTALK|  195|\n",
            "|     Joanna Newsom|              '81|  176|\n",
            "|            Hozier|Take Me to Church|  169|\n",
            "|Coheed and Cambria|    Time Consumer|  166|\n",
            "|          Bon Iver|      Skinny Love|  164|\n",
            "|     Justin Bieber|            Sorry|  162|\n",
            "|    Arctic Monkeys| Do I Wanna Know?|  157|\n",
            "|    Mumford & Sons|         The Cave|  150|\n",
            "|               Sia|       Chandelier|  140|\n",
            "|           Rihanna|             Work|  138|\n",
            "+------------------+-----------------+-----+\n",
            "\n"
          ]
        }
      ]
    },
    {
      "cell_type": "markdown",
      "metadata": {
        "id": "HqhPhQvjeXt0"
      },
      "source": [
        "**Query #4:** find top 10 famous tracks of ***Rihanna*** "
      ]
    },
    {
      "cell_type": "code",
      "metadata": {
        "id": "D_npmdh1ec8y",
        "colab": {
          "base_uri": "https://localhost:8080/"
        },
        "outputId": "f04e7f32-6e83-4319-d10d-26dbd24a04ef"
      },
      "source": [
        "q4 = df01.select('artist', 'track').filter(df01.artist == 'Rihanna').groupby('artist', 'track').agg(count('*').alias('count')).orderBy(desc('count')).limit(10)\n",
        "q4.show()"
      ],
      "execution_count": null,
      "outputs": [
        {
          "output_type": "stream",
          "name": "stdout",
          "text": [
            "+-------+--------------------+-----+\n",
            "| artist|               track|count|\n",
            "+-------+--------------------+-----+\n",
            "|Rihanna|                Work|  138|\n",
            "|Rihanna|We Found Love (fe...|   60|\n",
            "|Rihanna|Only Girl (In the...|   58|\n",
            "|Rihanna|                 S&M|   54|\n",
            "|Rihanna|            Diamonds|   43|\n",
            "|Rihanna|Bitch Better Have...|   42|\n",
            "|Rihanna|            Rude Boy|   41|\n",
            "|Rihanna| Where Have You Been|   41|\n",
            "|Rihanna|      Kiss it Better|   38|\n",
            "|Rihanna|           Desperado|   38|\n",
            "+-------+--------------------+-----+\n",
            "\n"
          ]
        }
      ]
    },
    {
      "cell_type": "markdown",
      "metadata": {
        "id": "E6pgcH0p1ZXo"
      },
      "source": [
        "**Query #5:** find top 10 famous albums "
      ]
    },
    {
      "cell_type": "code",
      "metadata": {
        "id": "c5YHm6yKenE7",
        "colab": {
          "base_uri": "https://localhost:8080/"
        },
        "outputId": "bf3cf9ec-5f6f-4c94-c5d0-33ea394fe5ce"
      },
      "source": [
        "q5 = df01.select('artist', 'album').groupby('artist','album').agg(count('album').alias('count')).orderBy(desc('count')).limit(10)\n",
        "q5.show()"
      ],
      "execution_count": null,
      "outputs": [
        {
          "output_type": "stream",
          "name": "stdout",
          "text": [
            "+--------------------+--------------------+-----+\n",
            "|              artist|               album|count|\n",
            "+--------------------+--------------------+-----+\n",
            "|               alt-J|     An Awesome Wave|  725|\n",
            "|      Arctic Monkeys|                  AM|  701|\n",
            "|          Kanye West|   The Life of Pablo|  697|\n",
            "|      Mumford & Sons|        Sigh No More|  676|\n",
            "|            Bon Iver|            For Emma|  657|\n",
            "|              The xx|                  xx|  641|\n",
            "|        Taylor Swift|       1989 (Deluxe)|  608|\n",
            "|      Arctic Monkeys|Whatever People S...|  571|\n",
            "|Florence + the Ma...|               Lungs|  548|\n",
            "|         Biffy Clyro|    Only Revolutions|  538|\n",
            "+--------------------+--------------------+-----+\n",
            "\n"
          ]
        }
      ]
    },
    {
      "cell_type": "markdown",
      "metadata": {
        "id": "YXev8HQ57bdq"
      },
      "source": [
        "### **Task 4** :\n",
        "importing the ***genre.csv*** file:"
      ]
    },
    {
      "cell_type": "code",
      "metadata": {
        "id": "tpXSrYfu14PB"
      },
      "source": [
        "df02_path = '/content/genre.csv'\n",
        "df02 = spark.read.format('csv').option('InferSchema', True).option('header', True).load(df02_path)"
      ],
      "execution_count": null,
      "outputs": []
    },
    {
      "cell_type": "markdown",
      "metadata": {
        "id": "aCHSo36W9RcP"
      },
      "source": [
        "check the data"
      ]
    },
    {
      "cell_type": "code",
      "metadata": {
        "id": "LJu4Ouz89O6_",
        "colab": {
          "base_uri": "https://localhost:8080/"
        },
        "outputId": "093bfe8b-a4b9-41b8-bee2-acd9874588c1"
      },
      "source": [
        "df02.show()"
      ],
      "execution_count": null,
      "outputs": [
        {
          "output_type": "stream",
          "name": "stdout",
          "text": [
            "+--------------------+-----+\n",
            "|              artist|genre|\n",
            "+--------------------+-----+\n",
            "|                Muse| rock|\n",
            "|             Nirvana| rock|\n",
            "|            Bon Jovi| rock|\n",
            "|          The Police| rock|\n",
            "|                Kiss| rock|\n",
            "|       Guns N' Roses| rock|\n",
            "|         Rusted Root| rock|\n",
            "|Katrina and the W...|  pop|\n",
            "|         The Beatles| rock|\n",
            "|        Hall & Oates|  pop|\n",
            "|        Otis Redding| soul|\n",
            "|         Marvin Gaye| soul|\n",
            "|     The Cranberries| rock|\n",
            "|            Survivor| rock|\n",
            "|       Fleetwood Mac|blues|\n",
            "|           Radiohead| rock|\n",
            "|                Toto| rock|\n",
            "|                  U2| rock|\n",
            "|Creedence Clearwa...| rock|\n",
            "|                 REM| rock|\n",
            "+--------------------+-----+\n",
            "only showing top 20 rows\n",
            "\n"
          ]
        }
      ]
    },
    {
      "cell_type": "markdown",
      "source": [
        "Check dimension of genre"
      ],
      "metadata": {
        "id": "2cRViX7kcJu9"
      }
    },
    {
      "cell_type": "code",
      "source": [
        "shape02 = (df02.count(), len(df02.columns))\n",
        "print('Dimension = ', shape02)"
      ],
      "metadata": {
        "colab": {
          "base_uri": "https://localhost:8080/"
        },
        "id": "tPqhQj4lcOsF",
        "outputId": "84e95cef-6b0c-40ae-bc8d-5db57d1aa813"
      },
      "execution_count": null,
      "outputs": [
        {
          "output_type": "stream",
          "name": "stdout",
          "text": [
            "Dimension =  (138432, 2)\n"
          ]
        }
      ]
    },
    {
      "cell_type": "markdown",
      "metadata": {
        "id": "72OpWX7F98qg"
      },
      "source": [
        "**inner join** these two data frames"
      ]
    },
    {
      "cell_type": "code",
      "source": [
        "full_df = df01.join(df02, how='inner', on='artist')\n",
        "full_df.show()"
      ],
      "metadata": {
        "colab": {
          "base_uri": "https://localhost:8080/"
        },
        "id": "h3xSjaZ_gZgv",
        "outputId": "01f39d08-abfe-4051-c890-229ce837f7ee"
      },
      "execution_count": null,
      "outputs": [
        {
          "output_type": "stream",
          "name": "stdout",
          "text": [
            "+------------+-----------+--------------------+--------------------+--------------------+\n",
            "|      artist|    user_id|               track|               album|               genre|\n",
            "+------------+-----------+--------------------+--------------------+--------------------+\n",
            "|    Jessie J|000Silenced|           Price Tag|         Who You Are| Ariana Grande & ...|\n",
            "|    Jessie J|000Silenced|           Price Tag|         Who You Are| Jhene Aiko & Rixton|\n",
            "|    Jessie J|000Silenced|           Price Tag|         Who You Are| Nicki Minaj & Ar...|\n",
            "|    Jessie J|000Silenced|           Price Tag|         Who You Are|                 pop|\n",
            "|    Jessie J|000Silenced|Price Tag (Acoust...|           Price Tag| Ariana Grande & ...|\n",
            "|    Jessie J|000Silenced|Price Tag (Acoust...|           Price Tag| Jhene Aiko & Rixton|\n",
            "|    Jessie J|000Silenced|Price Tag (Acoust...|           Price Tag| Nicki Minaj & Ar...|\n",
            "|    Jessie J|000Silenced|Price Tag (Acoust...|           Price Tag|                 pop|\n",
            "|       Robyn|000Silenced|Be Mine! (Ballad ...|            Be Mine!|                 pop|\n",
            "|       Kelis|000Silenced|            Acapella|            Acapella|                 pop|\n",
            "|   The Tease|000Silenced|   I'm Not Invisible|   I'm Not Invisible|             hip hop|\n",
            "|    MSTRKRFT|000Silenced|Bounce (Feat NORE...|         Fist of God|          electronic|\n",
            "|     Rihanna|000Silenced|Don't Stop The Mu...|Addicted 2 Bassli...|                 SZA|\n",
            "|     Rihanna|000Silenced|Don't Stop The Mu...|Addicted 2 Bassli...| Paul McCartney &...|\n",
            "|     Rihanna|000Silenced|Don't Stop The Mu...|Addicted 2 Bassli...|          Kanye West|\n",
            "|     Rihanna|000Silenced|Don't Stop The Mu...|Addicted 2 Bassli...| Kanye West & Pau...|\n",
            "|     Rihanna|000Silenced|Don't Stop The Mu...|Addicted 2 Bassli...|                 pop|\n",
            "|   Meshuggah|000Silenced|               ObZen|               ObZen|               metal|\n",
            "|      Gojira|000Silenced|   Yama's Messengers|The Way of All Flesh|               metal|\n",
            "|Napalm Death|000Silenced|On the Brink of E...|Time Waits For No...|           grindcore|\n",
            "+------------+-----------+--------------------+--------------------+--------------------+\n",
            "only showing top 20 rows\n",
            "\n"
          ]
        }
      ]
    },
    {
      "cell_type": "code",
      "source": [
        "shape03 = (full_df.count(), len(full_df.columns))\n",
        "print('Dimension = ', shape03)"
      ],
      "metadata": {
        "colab": {
          "base_uri": "https://localhost:8080/"
        },
        "id": "rSiNrXC0g_XU",
        "outputId": "ad4a45ea-5e12-4f23-ed6f-84b88cb02be6"
      },
      "execution_count": null,
      "outputs": [
        {
          "output_type": "stream",
          "name": "stdout",
          "text": [
            "Dimension =  (802855, 5)\n"
          ]
        }
      ]
    },
    {
      "cell_type": "markdown",
      "metadata": {
        "id": "yM_f5qILBNeI"
      },
      "source": [
        "**Query #6** find top 10 users who are fan of ***pop*** music"
      ]
    },
    {
      "cell_type": "code",
      "metadata": {
        "id": "dognQVlxBi2n",
        "colab": {
          "base_uri": "https://localhost:8080/"
        },
        "outputId": "14b9b580-e2cd-4d74-f684-3e7148219a61"
      },
      "source": [
        "q6 = full_df.select('user_id', 'genre').filter(full_df.genre == 'pop').groupby('user_id', 'genre').agg(count('genre').alias('count')).orderBy(desc('count')).limit(10)\n",
        "q6.show()"
      ],
      "execution_count": null,
      "outputs": [
        {
          "output_type": "stream",
          "name": "stdout",
          "text": [
            "+-----------+-----+-----+\n",
            "|    user_id|genre|count|\n",
            "+-----------+-----+-----+\n",
            "|    01Green|  pop|  496|\n",
            "|aboylike_me|  pop|  200|\n",
            "| addywalter|  pop|  199|\n",
            "|   Aeroniel|  pop|  189|\n",
            "|   alicia06|  pop|  185|\n",
            "|   Amberchu|  pop|  185|\n",
            "|   alexfack|  pop|  170|\n",
            "|     170606|  pop|  169|\n",
            "| alandonkin|  pop|  167|\n",
            "|       adxx|  pop|  167|\n",
            "+-----------+-----+-----+\n",
            "\n"
          ]
        }
      ]
    },
    {
      "cell_type": "markdown",
      "metadata": {
        "id": "63quzy7t-zb7"
      },
      "source": [
        "**Query #7** find top 10 famous genres"
      ]
    },
    {
      "cell_type": "code",
      "metadata": {
        "id": "aDFcoPPk-Rhf",
        "colab": {
          "base_uri": "https://localhost:8080/"
        },
        "outputId": "2f090b16-f37c-4990-a768-d9a6e5eb2ce2"
      },
      "source": [
        "q7 = full_df.select('genre').groupby('genre').agg(count('genre').alias('count')).orderBy(desc('count')).limit(10)\n",
        "q7.show()"
      ],
      "execution_count": null,
      "outputs": [
        {
          "output_type": "stream",
          "name": "stdout",
          "text": [
            "+----------+------+\n",
            "|     genre| count|\n",
            "+----------+------+\n",
            "|      rock|119887|\n",
            "|       pop| 69863|\n",
            "|electronic| 25481|\n",
            "|   hip hop| 24886|\n",
            "|indie rock| 21147|\n",
            "|      folk| 20820|\n",
            "|      punk| 17865|\n",
            "|       r&b| 17547|\n",
            "|      jazz| 10260|\n",
            "|     indie|  9820|\n",
            "+----------+------+\n",
            "\n"
          ]
        }
      ]
    },
    {
      "cell_type": "markdown",
      "metadata": {
        "id": "hrZOAWVgLMZo"
      },
      "source": [
        "### **Task 5**:\n",
        "**Query #8** find out each user favourite genre"
      ]
    },
    {
      "cell_type": "markdown",
      "source": [
        "**note: 2x aggregasi**"
      ],
      "metadata": {
        "id": "EUuSbG8SnnDv"
      }
    },
    {
      "cell_type": "code",
      "metadata": {
        "id": "H3AWxlkbLvCg",
        "colab": {
          "base_uri": "https://localhost:8080/"
        },
        "outputId": "7d9c694d-b5c0-4a19-8402-a34ffb2d39bd"
      },
      "source": [
        "q8_1 = full_df.select('user_id', 'genre').groupby('user_id', 'genre').agg(count('*').alias('count')).orderBy('user_id')\n",
        "q8_1.show()"
      ],
      "execution_count": null,
      "outputs": [
        {
          "output_type": "stream",
          "name": "stdout",
          "text": [
            "+-------------+--------------------+-----+\n",
            "|      user_id|               genre|count|\n",
            "+-------------+--------------------+-----+\n",
            "|   -Amnesiac-|               metal|  150|\n",
            "|   -Amnesiac-|                rock|   50|\n",
            "|-allniceonice|                jazz|   29|\n",
            "|-allniceonice|                rock|   17|\n",
            "|-allniceonice|intelligent dance...|    2|\n",
            "|-allniceonice|               dance|    1|\n",
            "|-allniceonice|               house|    2|\n",
            "|-allniceonice|           post-punk|    1|\n",
            "|-allniceonice|                kpop|    7|\n",
            "|-allniceonice|             hip hop|   19|\n",
            "|-allniceonice|          electronic|    5|\n",
            "|-allniceonice|               indie|    1|\n",
            "|-allniceonice|         british pop|    1|\n",
            "|-allniceonice|         folktronica|    1|\n",
            "|-allniceonice|             Rajwant|    1|\n",
            "|  000Silenced| Paul McCartney &...|    2|\n",
            "|  000Silenced|               dance|   11|\n",
            "|  000Silenced|        Robert Owens|    1|\n",
            "|  000Silenced|                Face|    1|\n",
            "|  000Silenced|              Dr Dre|    2|\n",
            "+-------------+--------------------+-----+\n",
            "only showing top 20 rows\n",
            "\n"
          ]
        }
      ]
    },
    {
      "cell_type": "code",
      "metadata": {
        "id": "Soy2bMxQN-Ub",
        "colab": {
          "base_uri": "https://localhost:8080/"
        },
        "outputId": "89361062-db0f-4448-a025-bba4669bb4c2"
      },
      "source": [
        "q8_2 = q8_1.groupby('user_id').agg(max(struct(col('count'), col('genre'))).alias('max')).select(col('user_id'), col('max.genre'))\n",
        "q8_2.show()"
      ],
      "execution_count": null,
      "outputs": [
        {
          "output_type": "stream",
          "name": "stdout",
          "text": [
            "+---------------+-------------+\n",
            "|        user_id|        genre|\n",
            "+---------------+-------------+\n",
            "|     -Amnesiac-|        metal|\n",
            "|  -allniceonice|         jazz|\n",
            "|    000Silenced|drum and bass|\n",
            "|         004545|         rock|\n",
            "|        00Lemon|         rock|\n",
            "|00TrompeLeMonde|         jazz|\n",
            "|        00bob00|    classical|\n",
            "|      00fieldsy|         rock|\n",
            "|        00jamez|   indie rock|\n",
            "|    00williamsj|      country|\n",
            "|    00williamsl|          pop|\n",
            "|        01Green|          pop|\n",
            "|     01higginsr|      hip hop|\n",
            "|     01kaputnik|         rock|\n",
            "|  01rwsouthgate|         rock|\n",
            "|       01smicha|         rock|\n",
            "|      01srainey|          pop|\n",
            "|     02styles91|         folk|\n",
            "|      03swalker|         rock|\n",
            "|        0502008|          pop|\n",
            "+---------------+-------------+\n",
            "only showing top 20 rows\n",
            "\n"
          ]
        }
      ]
    },
    {
      "cell_type": "markdown",
      "metadata": {
        "id": "6oIyhOHkCDuv"
      },
      "source": [
        "**Query #9** find out how many pop,rock,metal and hip hop singers we have and then visulize it using bar chart "
      ]
    },
    {
      "cell_type": "code",
      "metadata": {
        "id": "7_lEjNKVCDJv",
        "colab": {
          "base_uri": "https://localhost:8080/"
        },
        "outputId": "b66ebee7-a66e-499b-b5f0-c8b544abd586"
      },
      "source": [
        "q9 = df02.select('genre').filter( (col('genre')=='pop') | \n",
        "                                  (col('genre')=='rock') | \n",
        "                                  (col('genre')=='metal') | \n",
        "                                  (col('genre')=='hip hop')).groupby('genre').agg(count('genre').alias('count'))\n",
        "q9.show()"
      ],
      "execution_count": null,
      "outputs": [
        {
          "output_type": "stream",
          "name": "stdout",
          "text": [
            "+-------+-----+\n",
            "|  genre|count|\n",
            "+-------+-----+\n",
            "|    pop| 6960|\n",
            "|hip hop| 4288|\n",
            "|  metal| 1854|\n",
            "|   rock| 9066|\n",
            "+-------+-----+\n",
            "\n"
          ]
        }
      ]
    },
    {
      "cell_type": "markdown",
      "metadata": {
        "id": "h0h2SSk8InMH"
      },
      "source": [
        "visualize the results using ***matplotlib***"
      ]
    },
    {
      "cell_type": "code",
      "metadata": {
        "id": "J-n8gOC0Imj5",
        "colab": {
          "base_uri": "https://localhost:8080/"
        },
        "outputId": "0c20c3df-ec5a-4f85-a696-d003eac5d4c2"
      },
      "source": [
        "q9_list = q9.collect()\n",
        "print(q9_list)"
      ],
      "execution_count": null,
      "outputs": [
        {
          "output_type": "stream",
          "name": "stdout",
          "text": [
            "[Row(genre='pop', count=6960), Row(genre='hip hop', count=4288), Row(genre='metal', count=1854), Row(genre='rock', count=9066)]\n"
          ]
        }
      ]
    },
    {
      "cell_type": "code",
      "metadata": {
        "id": "CMigHLrEQgKv",
        "colab": {
          "base_uri": "https://localhost:8080/"
        },
        "outputId": "a9b05d92-a5b5-4ad1-92be-2f52ee2827d6"
      },
      "source": [
        "label = [row['genre'] for row in q9_list]\n",
        "values = [row['count'] for row in q9_list]\n",
        "print(label)\n",
        "print(values)"
      ],
      "execution_count": null,
      "outputs": [
        {
          "output_type": "stream",
          "name": "stdout",
          "text": [
            "['pop', 'hip hop', 'metal', 'rock']\n",
            "[6960, 4288, 1854, 9066]\n"
          ]
        }
      ]
    },
    {
      "cell_type": "markdown",
      "metadata": {
        "id": "1iDrvEwYQ4AE"
      },
      "source": [
        "visualize these two lists using a **bar chart**"
      ]
    },
    {
      "cell_type": "code",
      "metadata": {
        "id": "XOOq1U9BQjKI",
        "colab": {
          "base_uri": "https://localhost:8080/",
          "height": 617
        },
        "outputId": "df51cdbc-ee66-42aa-e8d8-207a7b4ed047"
      },
      "source": [
        "import plotly.express as px\n",
        "fig = px.bar(x=label, \n",
        "             y=values, \n",
        "             height = 600,\n",
        "             width=500, \n",
        "             title=\"Count of Singer\",\n",
        "             text_auto='.2s')\n",
        "fig.update_traces(textfont_size=12, textangle=0, textposition=\"inside\", cliponaxis=True)\n",
        "fig.show()"
      ],
      "execution_count": null,
      "outputs": [
        {
          "output_type": "display_data",
          "data": {
            "text/html": [
              "<html>\n",
              "<head><meta charset=\"utf-8\" /></head>\n",
              "<body>\n",
              "    <div>            <script src=\"https://cdnjs.cloudflare.com/ajax/libs/mathjax/2.7.5/MathJax.js?config=TeX-AMS-MML_SVG\"></script><script type=\"text/javascript\">if (window.MathJax) {MathJax.Hub.Config({SVG: {font: \"STIX-Web\"}});}</script>                <script type=\"text/javascript\">window.PlotlyConfig = {MathJaxConfig: 'local'};</script>\n",
              "        <script src=\"https://cdn.plot.ly/plotly-2.8.3.min.js\"></script>                <div id=\"85159b34-42b0-4218-82c6-df69c17d1c7c\" class=\"plotly-graph-div\" style=\"height:600px; width:500px;\"></div>            <script type=\"text/javascript\">                                    window.PLOTLYENV=window.PLOTLYENV || {};                                    if (document.getElementById(\"85159b34-42b0-4218-82c6-df69c17d1c7c\")) {                    Plotly.newPlot(                        \"85159b34-42b0-4218-82c6-df69c17d1c7c\",                        [{\"alignmentgroup\":\"True\",\"hovertemplate\":\"x=%{x}<br>y=%{y}<extra></extra>\",\"legendgroup\":\"\",\"marker\":{\"color\":\"#636efa\",\"pattern\":{\"shape\":\"\"}},\"name\":\"\",\"offsetgroup\":\"\",\"orientation\":\"v\",\"showlegend\":false,\"textposition\":\"inside\",\"texttemplate\":\"%{y:.2s}\",\"x\":[\"pop\",\"hip hop\",\"metal\",\"rock\"],\"xaxis\":\"x\",\"y\":[6960,4288,1854,9066],\"yaxis\":\"y\",\"type\":\"bar\",\"textfont\":{\"size\":12},\"cliponaxis\":true,\"textangle\":0}],                        {\"template\":{\"data\":{\"bar\":[{\"error_x\":{\"color\":\"#2a3f5f\"},\"error_y\":{\"color\":\"#2a3f5f\"},\"marker\":{\"line\":{\"color\":\"#E5ECF6\",\"width\":0.5},\"pattern\":{\"fillmode\":\"overlay\",\"size\":10,\"solidity\":0.2}},\"type\":\"bar\"}],\"barpolar\":[{\"marker\":{\"line\":{\"color\":\"#E5ECF6\",\"width\":0.5},\"pattern\":{\"fillmode\":\"overlay\",\"size\":10,\"solidity\":0.2}},\"type\":\"barpolar\"}],\"carpet\":[{\"aaxis\":{\"endlinecolor\":\"#2a3f5f\",\"gridcolor\":\"white\",\"linecolor\":\"white\",\"minorgridcolor\":\"white\",\"startlinecolor\":\"#2a3f5f\"},\"baxis\":{\"endlinecolor\":\"#2a3f5f\",\"gridcolor\":\"white\",\"linecolor\":\"white\",\"minorgridcolor\":\"white\",\"startlinecolor\":\"#2a3f5f\"},\"type\":\"carpet\"}],\"choropleth\":[{\"colorbar\":{\"outlinewidth\":0,\"ticks\":\"\"},\"type\":\"choropleth\"}],\"contour\":[{\"colorbar\":{\"outlinewidth\":0,\"ticks\":\"\"},\"colorscale\":[[0.0,\"#0d0887\"],[0.1111111111111111,\"#46039f\"],[0.2222222222222222,\"#7201a8\"],[0.3333333333333333,\"#9c179e\"],[0.4444444444444444,\"#bd3786\"],[0.5555555555555556,\"#d8576b\"],[0.6666666666666666,\"#ed7953\"],[0.7777777777777778,\"#fb9f3a\"],[0.8888888888888888,\"#fdca26\"],[1.0,\"#f0f921\"]],\"type\":\"contour\"}],\"contourcarpet\":[{\"colorbar\":{\"outlinewidth\":0,\"ticks\":\"\"},\"type\":\"contourcarpet\"}],\"heatmap\":[{\"colorbar\":{\"outlinewidth\":0,\"ticks\":\"\"},\"colorscale\":[[0.0,\"#0d0887\"],[0.1111111111111111,\"#46039f\"],[0.2222222222222222,\"#7201a8\"],[0.3333333333333333,\"#9c179e\"],[0.4444444444444444,\"#bd3786\"],[0.5555555555555556,\"#d8576b\"],[0.6666666666666666,\"#ed7953\"],[0.7777777777777778,\"#fb9f3a\"],[0.8888888888888888,\"#fdca26\"],[1.0,\"#f0f921\"]],\"type\":\"heatmap\"}],\"heatmapgl\":[{\"colorbar\":{\"outlinewidth\":0,\"ticks\":\"\"},\"colorscale\":[[0.0,\"#0d0887\"],[0.1111111111111111,\"#46039f\"],[0.2222222222222222,\"#7201a8\"],[0.3333333333333333,\"#9c179e\"],[0.4444444444444444,\"#bd3786\"],[0.5555555555555556,\"#d8576b\"],[0.6666666666666666,\"#ed7953\"],[0.7777777777777778,\"#fb9f3a\"],[0.8888888888888888,\"#fdca26\"],[1.0,\"#f0f921\"]],\"type\":\"heatmapgl\"}],\"histogram\":[{\"marker\":{\"pattern\":{\"fillmode\":\"overlay\",\"size\":10,\"solidity\":0.2}},\"type\":\"histogram\"}],\"histogram2d\":[{\"colorbar\":{\"outlinewidth\":0,\"ticks\":\"\"},\"colorscale\":[[0.0,\"#0d0887\"],[0.1111111111111111,\"#46039f\"],[0.2222222222222222,\"#7201a8\"],[0.3333333333333333,\"#9c179e\"],[0.4444444444444444,\"#bd3786\"],[0.5555555555555556,\"#d8576b\"],[0.6666666666666666,\"#ed7953\"],[0.7777777777777778,\"#fb9f3a\"],[0.8888888888888888,\"#fdca26\"],[1.0,\"#f0f921\"]],\"type\":\"histogram2d\"}],\"histogram2dcontour\":[{\"colorbar\":{\"outlinewidth\":0,\"ticks\":\"\"},\"colorscale\":[[0.0,\"#0d0887\"],[0.1111111111111111,\"#46039f\"],[0.2222222222222222,\"#7201a8\"],[0.3333333333333333,\"#9c179e\"],[0.4444444444444444,\"#bd3786\"],[0.5555555555555556,\"#d8576b\"],[0.6666666666666666,\"#ed7953\"],[0.7777777777777778,\"#fb9f3a\"],[0.8888888888888888,\"#fdca26\"],[1.0,\"#f0f921\"]],\"type\":\"histogram2dcontour\"}],\"mesh3d\":[{\"colorbar\":{\"outlinewidth\":0,\"ticks\":\"\"},\"type\":\"mesh3d\"}],\"parcoords\":[{\"line\":{\"colorbar\":{\"outlinewidth\":0,\"ticks\":\"\"}},\"type\":\"parcoords\"}],\"pie\":[{\"automargin\":true,\"type\":\"pie\"}],\"scatter\":[{\"marker\":{\"colorbar\":{\"outlinewidth\":0,\"ticks\":\"\"}},\"type\":\"scatter\"}],\"scatter3d\":[{\"line\":{\"colorbar\":{\"outlinewidth\":0,\"ticks\":\"\"}},\"marker\":{\"colorbar\":{\"outlinewidth\":0,\"ticks\":\"\"}},\"type\":\"scatter3d\"}],\"scattercarpet\":[{\"marker\":{\"colorbar\":{\"outlinewidth\":0,\"ticks\":\"\"}},\"type\":\"scattercarpet\"}],\"scattergeo\":[{\"marker\":{\"colorbar\":{\"outlinewidth\":0,\"ticks\":\"\"}},\"type\":\"scattergeo\"}],\"scattergl\":[{\"marker\":{\"colorbar\":{\"outlinewidth\":0,\"ticks\":\"\"}},\"type\":\"scattergl\"}],\"scattermapbox\":[{\"marker\":{\"colorbar\":{\"outlinewidth\":0,\"ticks\":\"\"}},\"type\":\"scattermapbox\"}],\"scatterpolar\":[{\"marker\":{\"colorbar\":{\"outlinewidth\":0,\"ticks\":\"\"}},\"type\":\"scatterpolar\"}],\"scatterpolargl\":[{\"marker\":{\"colorbar\":{\"outlinewidth\":0,\"ticks\":\"\"}},\"type\":\"scatterpolargl\"}],\"scatterternary\":[{\"marker\":{\"colorbar\":{\"outlinewidth\":0,\"ticks\":\"\"}},\"type\":\"scatterternary\"}],\"surface\":[{\"colorbar\":{\"outlinewidth\":0,\"ticks\":\"\"},\"colorscale\":[[0.0,\"#0d0887\"],[0.1111111111111111,\"#46039f\"],[0.2222222222222222,\"#7201a8\"],[0.3333333333333333,\"#9c179e\"],[0.4444444444444444,\"#bd3786\"],[0.5555555555555556,\"#d8576b\"],[0.6666666666666666,\"#ed7953\"],[0.7777777777777778,\"#fb9f3a\"],[0.8888888888888888,\"#fdca26\"],[1.0,\"#f0f921\"]],\"type\":\"surface\"}],\"table\":[{\"cells\":{\"fill\":{\"color\":\"#EBF0F8\"},\"line\":{\"color\":\"white\"}},\"header\":{\"fill\":{\"color\":\"#C8D4E3\"},\"line\":{\"color\":\"white\"}},\"type\":\"table\"}]},\"layout\":{\"annotationdefaults\":{\"arrowcolor\":\"#2a3f5f\",\"arrowhead\":0,\"arrowwidth\":1},\"autotypenumbers\":\"strict\",\"coloraxis\":{\"colorbar\":{\"outlinewidth\":0,\"ticks\":\"\"}},\"colorscale\":{\"diverging\":[[0,\"#8e0152\"],[0.1,\"#c51b7d\"],[0.2,\"#de77ae\"],[0.3,\"#f1b6da\"],[0.4,\"#fde0ef\"],[0.5,\"#f7f7f7\"],[0.6,\"#e6f5d0\"],[0.7,\"#b8e186\"],[0.8,\"#7fbc41\"],[0.9,\"#4d9221\"],[1,\"#276419\"]],\"sequential\":[[0.0,\"#0d0887\"],[0.1111111111111111,\"#46039f\"],[0.2222222222222222,\"#7201a8\"],[0.3333333333333333,\"#9c179e\"],[0.4444444444444444,\"#bd3786\"],[0.5555555555555556,\"#d8576b\"],[0.6666666666666666,\"#ed7953\"],[0.7777777777777778,\"#fb9f3a\"],[0.8888888888888888,\"#fdca26\"],[1.0,\"#f0f921\"]],\"sequentialminus\":[[0.0,\"#0d0887\"],[0.1111111111111111,\"#46039f\"],[0.2222222222222222,\"#7201a8\"],[0.3333333333333333,\"#9c179e\"],[0.4444444444444444,\"#bd3786\"],[0.5555555555555556,\"#d8576b\"],[0.6666666666666666,\"#ed7953\"],[0.7777777777777778,\"#fb9f3a\"],[0.8888888888888888,\"#fdca26\"],[1.0,\"#f0f921\"]]},\"colorway\":[\"#636efa\",\"#EF553B\",\"#00cc96\",\"#ab63fa\",\"#FFA15A\",\"#19d3f3\",\"#FF6692\",\"#B6E880\",\"#FF97FF\",\"#FECB52\"],\"font\":{\"color\":\"#2a3f5f\"},\"geo\":{\"bgcolor\":\"white\",\"lakecolor\":\"white\",\"landcolor\":\"#E5ECF6\",\"showlakes\":true,\"showland\":true,\"subunitcolor\":\"white\"},\"hoverlabel\":{\"align\":\"left\"},\"hovermode\":\"closest\",\"mapbox\":{\"style\":\"light\"},\"paper_bgcolor\":\"white\",\"plot_bgcolor\":\"#E5ECF6\",\"polar\":{\"angularaxis\":{\"gridcolor\":\"white\",\"linecolor\":\"white\",\"ticks\":\"\"},\"bgcolor\":\"#E5ECF6\",\"radialaxis\":{\"gridcolor\":\"white\",\"linecolor\":\"white\",\"ticks\":\"\"}},\"scene\":{\"xaxis\":{\"backgroundcolor\":\"#E5ECF6\",\"gridcolor\":\"white\",\"gridwidth\":2,\"linecolor\":\"white\",\"showbackground\":true,\"ticks\":\"\",\"zerolinecolor\":\"white\"},\"yaxis\":{\"backgroundcolor\":\"#E5ECF6\",\"gridcolor\":\"white\",\"gridwidth\":2,\"linecolor\":\"white\",\"showbackground\":true,\"ticks\":\"\",\"zerolinecolor\":\"white\"},\"zaxis\":{\"backgroundcolor\":\"#E5ECF6\",\"gridcolor\":\"white\",\"gridwidth\":2,\"linecolor\":\"white\",\"showbackground\":true,\"ticks\":\"\",\"zerolinecolor\":\"white\"}},\"shapedefaults\":{\"line\":{\"color\":\"#2a3f5f\"}},\"ternary\":{\"aaxis\":{\"gridcolor\":\"white\",\"linecolor\":\"white\",\"ticks\":\"\"},\"baxis\":{\"gridcolor\":\"white\",\"linecolor\":\"white\",\"ticks\":\"\"},\"bgcolor\":\"#E5ECF6\",\"caxis\":{\"gridcolor\":\"white\",\"linecolor\":\"white\",\"ticks\":\"\"}},\"title\":{\"x\":0.05},\"xaxis\":{\"automargin\":true,\"gridcolor\":\"white\",\"linecolor\":\"white\",\"ticks\":\"\",\"title\":{\"standoff\":15},\"zerolinecolor\":\"white\",\"zerolinewidth\":2},\"yaxis\":{\"automargin\":true,\"gridcolor\":\"white\",\"linecolor\":\"white\",\"ticks\":\"\",\"title\":{\"standoff\":15},\"zerolinecolor\":\"white\",\"zerolinewidth\":2}}},\"xaxis\":{\"anchor\":\"y\",\"domain\":[0.0,1.0],\"title\":{\"text\":\"x\"}},\"yaxis\":{\"anchor\":\"x\",\"domain\":[0.0,1.0],\"title\":{\"text\":\"y\"}},\"legend\":{\"tracegroupgap\":0},\"title\":{\"text\":\"Count of Singer\"},\"barmode\":\"relative\",\"height\":600,\"width\":500},                        {\"responsive\": true}                    ).then(function(){\n",
              "                            \n",
              "var gd = document.getElementById('85159b34-42b0-4218-82c6-df69c17d1c7c');\n",
              "var x = new MutationObserver(function (mutations, observer) {{\n",
              "        var display = window.getComputedStyle(gd).display;\n",
              "        if (!display || display === 'none') {{\n",
              "            console.log([gd, 'removed!']);\n",
              "            Plotly.purge(gd);\n",
              "            observer.disconnect();\n",
              "        }}\n",
              "}});\n",
              "\n",
              "// Listen for the removal of the full notebook cells\n",
              "var notebookContainer = gd.closest('#notebook-container');\n",
              "if (notebookContainer) {{\n",
              "    x.observe(notebookContainer, {childList: true});\n",
              "}}\n",
              "\n",
              "// Listen for the clearing of the current output cell\n",
              "var outputEl = gd.closest('.output');\n",
              "if (outputEl) {{\n",
              "    x.observe(outputEl, {childList: true});\n",
              "}}\n",
              "\n",
              "                        })                };                            </script>        </div>\n",
              "</body>\n",
              "</html>"
            ]
          },
          "metadata": {}
        }
      ]
    },
    {
      "cell_type": "markdown",
      "source": [
        "## **Recommendation System**"
      ],
      "metadata": {
        "id": "Fk4cjknQ_x4W"
      }
    },
    {
      "cell_type": "markdown",
      "source": [
        "### **Task 01** :\n",
        "Installing Module"
      ],
      "metadata": {
        "id": "aqTrSdPDAS-N"
      }
    },
    {
      "cell_type": "code",
      "source": [
        "from pyspark.ml.feature import StringIndexer\n",
        "from pyspark.ml import Pipeline\n",
        "from pyspark.ml.recommendation import ALS\n",
        "from pyspark.ml.tuning import TrainValidationSplit, ParamGridBuilder"
      ],
      "metadata": {
        "id": "6AcuWTTOt-Kp"
      },
      "execution_count": 95,
      "outputs": []
    },
    {
      "cell_type": "code",
      "source": [
        "#show data\n",
        "df01.show()"
      ],
      "metadata": {
        "colab": {
          "base_uri": "https://localhost:8080/"
        },
        "id": "U8ujE6MashuX",
        "outputId": "f6a7b721-e0e4-4fd6-acfa-58ccd492bf08"
      },
      "execution_count": 96,
      "outputs": [
        {
          "output_type": "stream",
          "name": "stdout",
          "text": [
            "+-----------+--------------------+---------------+--------------------+\n",
            "|    user_id|               track|         artist|               album|\n",
            "+-----------+--------------------+---------------+--------------------+\n",
            "|000Silenced|           Price Tag|       Jessie J|         Who You Are|\n",
            "|000Silenced|Price Tag (Acoust...|       Jessie J|           Price Tag|\n",
            "|000Silenced|Be Mine! (Ballad ...|          Robyn|            Be Mine!|\n",
            "|000Silenced|            Acapella|          Kelis|            Acapella|\n",
            "|000Silenced|   I'm Not Invisible|      The Tease|   I'm Not Invisible|\n",
            "|000Silenced|Bounce (Feat NORE...|       MSTRKRFT|         Fist of God|\n",
            "|000Silenced|Don't Stop The Mu...|        Rihanna|Addicted 2 Bassli...|\n",
            "|000Silenced|               ObZen|      Meshuggah|               ObZen|\n",
            "|000Silenced|   Yama's Messengers|         Gojira|The Way of All Flesh|\n",
            "|000Silenced|On the Brink of E...|   Napalm Death|Time Waits For No...|\n",
            "|000Silenced|On the Brink of E...|   Napalm Death|Time Waits For No...|\n",
            "|000Silenced|        In Deference|   Napalm Death|      Smear Campaign|\n",
            "|000Silenced|      Post(?)organic|    Decapitated|Organic Hallucinosis|\n",
            "|000Silenced|        Mind Feeders|   Dom & Roland| No Strings Attached|\n",
            "|000Silenced|Necrosadistic War...|Cannibal Corpse|                Kill|\n",
            "|000Silenced|     Dance All Night|   Dom & Roland|          Chronology|\n",
            "|000Silenced|          Late Night|   Dom & Roland|          Chronology|\n",
            "|000Silenced|          Freak Seen|   Dom & Roland|          Chronology|\n",
            "|000Silenced|Paradrenasite (Hi...|   Dom & Roland|          Chronology|\n",
            "|000Silenced|               Rhino|   Dom & Roland|          Chronology|\n",
            "+-----------+--------------------+---------------+--------------------+\n",
            "only showing top 20 rows\n",
            "\n"
          ]
        }
      ]
    },
    {
      "cell_type": "code",
      "source": [
        "shape = (df01.count(), len(df01.columns))\n",
        "print(shape)"
      ],
      "metadata": {
        "colab": {
          "base_uri": "https://localhost:8080/"
        },
        "id": "yrnP-4Eosqkn",
        "outputId": "7a0d81d9-dba6-4e86-d30c-bbe0fd1f6051"
      },
      "execution_count": 105,
      "outputs": [
        {
          "output_type": "stream",
          "name": "stdout",
          "text": [
            "(620901, 4)\n"
          ]
        }
      ]
    },
    {
      "cell_type": "markdown",
      "source": [
        "### **Task 02** :\n",
        "\n",
        "counting each user favorite track"
      ],
      "metadata": {
        "id": "D_DSaTE5Kc2t"
      }
    },
    {
      "cell_type": "code",
      "source": [
        "q9 = full_df.select('user_id', 'track').groupby('user_id', 'track').agg(count('*').alias('count')).orderBy('user_id')\n",
        "q9.show()"
      ],
      "metadata": {
        "colab": {
          "base_uri": "https://localhost:8080/"
        },
        "id": "FX2p5E_7AOna",
        "outputId": "cb2fc5af-856e-4f35-9c4f-f9d85b1c4e7b"
      },
      "execution_count": 112,
      "outputs": [
        {
          "output_type": "stream",
          "name": "stdout",
          "text": [
            "+----------+--------------------+-----+\n",
            "|   user_id|               track|count|\n",
            "+----------+--------------------+-----+\n",
            "|-Amnesiac-|     Chlorine & Wine|   10|\n",
            "|-Amnesiac-|If I Have To Wake...|   10|\n",
            "|-Amnesiac-|Eidolon & Perispirit|    1|\n",
            "|-Amnesiac-|The Meeting of Pasts|    1|\n",
            "|-Amnesiac-|         Morningstar|    3|\n",
            "|-Amnesiac-|                 Pet|    1|\n",
            "|-Amnesiac-|          A Stranger|    1|\n",
            "|-Amnesiac-|               Renew|    4|\n",
            "|-Amnesiac-| A rose dies in eden|    2|\n",
            "|-Amnesiac-|                Blue|    1|\n",
            "|-Amnesiac-|             Lullaby|    1|\n",
            "|-Amnesiac-|         The Package|    1|\n",
            "|-Amnesiac-|                Ayil|    4|\n",
            "|-Amnesiac-|     Icarus Syndrome|    2|\n",
            "|-Amnesiac-|        The Outsider|    1|\n",
            "|-Amnesiac-|A Determinism of ...|    4|\n",
            "|-Amnesiac-|      Dance on Blood|    1|\n",
            "|-Amnesiac-|    Try to Disappear|   10|\n",
            "|-Amnesiac-|               Blood|    2|\n",
            "|-Amnesiac-|                I Am|    6|\n",
            "+----------+--------------------+-----+\n",
            "only showing top 20 rows\n",
            "\n"
          ]
        }
      ]
    },
    {
      "cell_type": "markdown",
      "source": [
        "### **Task 03** :\n",
        "\n",
        "Convert user_id and track into unique"
      ],
      "metadata": {
        "id": "qFkS40W0u3L4"
      }
    },
    {
      "cell_type": "code",
      "source": [
        "indexer = [StringIndexer(inputCol=col, \n",
        "                         outputCol=col + '_index').fit(q9)\n",
        "                         for col in list(set(q9.columns) - set(['count']))]\n",
        "pipeline = Pipeline(stages = indexer)\n",
        "result_transform = pipeline.fit(q9).transform(q9)\n",
        "result_transform.show()"
      ],
      "metadata": {
        "colab": {
          "base_uri": "https://localhost:8080/"
        },
        "id": "EUaOGszotD5w",
        "outputId": "d7598bcb-bb9d-419e-8e8d-50ccea486a97"
      },
      "execution_count": 114,
      "outputs": [
        {
          "output_type": "stream",
          "name": "stdout",
          "text": [
            "+----------+--------------------+-----+-------------+-----------+\n",
            "|   user_id|               track|count|user_id_index|track_index|\n",
            "+----------+--------------------+-----+-------------+-----------+\n",
            "|-Amnesiac-|A Reflection on Fire|    1|       3011.0|    56693.0|\n",
            "|-Amnesiac-|             Genuine|    2|       3011.0|    87430.0|\n",
            "|-Amnesiac-|                Down|    6|       3011.0|      159.0|\n",
            "|-Amnesiac-|           The Noose|    1|       3011.0|     8724.0|\n",
            "|-Amnesiac-|            Shock Me|   10|       3011.0|    10205.0|\n",
            "|-Amnesiac-|              Alicia|    2|       3011.0|    22055.0|\n",
            "|-Amnesiac-|       The Iron Bell|   10|       3011.0|    29476.0|\n",
            "|-Amnesiac-|  Weak And Powerless|    1|       3011.0|     7510.0|\n",
            "|-Amnesiac-|              Legion|    2|       3011.0|    26133.0|\n",
            "|-Amnesiac-|The Nurse Who Lov...|    1|       3011.0|    12653.0|\n",
            "|-Amnesiac-|              Ascend|    2|       3011.0|    61326.0|\n",
            "|-Amnesiac-|    Betray The Grave|    1|       3011.0|    64435.0|\n",
            "|-Amnesiac-|   Desperation Burns|   10|       3011.0|    17493.0|\n",
            "|-Amnesiac-|       Reflection 11|    2|       3011.0|   126583.0|\n",
            "|-Amnesiac-|     Remove Yourself|    6|       3011.0|   126866.0|\n",
            "|-Amnesiac-|         The Sleeper|    2|       3011.0|    49886.0|\n",
            "|-Amnesiac-| Transcend the Ghost|    1|       3011.0|   150612.0|\n",
            "|-Amnesiac-|              Vacant|    6|       3011.0|    30298.0|\n",
            "|-Amnesiac-|             Gravity|    1|       3011.0|       89.0|\n",
            "|-Amnesiac-|               Colby|    2|       3011.0|    72138.0|\n",
            "+----------+--------------------+-----+-------------+-----------+\n",
            "only showing top 20 rows\n",
            "\n"
          ]
        }
      ]
    },
    {
      "cell_type": "code",
      "source": [
        "# select train data\n",
        "df_input = result_transform.select('user_id_index', 'track_index', 'count').orderBy('user_id_index')\n",
        "df_input.show()"
      ],
      "metadata": {
        "colab": {
          "base_uri": "https://localhost:8080/"
        },
        "id": "OpWz8J-uxpe1",
        "outputId": "3a2861b5-f25e-457e-a4de-62d69af911e9"
      },
      "execution_count": 116,
      "outputs": [
        {
          "output_type": "stream",
          "name": "stdout",
          "text": [
            "+-------------+-----------+-----+\n",
            "|user_id_index|track_index|count|\n",
            "+-------------+-----------+-----+\n",
            "|          0.0|    76329.0|    1|\n",
            "|          0.0|    15246.0|    1|\n",
            "|          0.0|       17.0|    1|\n",
            "|          0.0|    29048.0|    1|\n",
            "|          0.0|    19141.0|    1|\n",
            "|          0.0|    34767.0|    1|\n",
            "|          0.0|    26203.0|    1|\n",
            "|          0.0|    16333.0|    1|\n",
            "|          0.0|    11101.0|    1|\n",
            "|          0.0|    26649.0|    1|\n",
            "|          0.0|    43134.0|    1|\n",
            "|          0.0|     1084.0|    1|\n",
            "|          0.0|   133843.0|    1|\n",
            "|          0.0|     5891.0|    1|\n",
            "|          0.0|    19635.0|    1|\n",
            "|          0.0|   104320.0|    1|\n",
            "|          0.0|    25926.0|    1|\n",
            "|          0.0|      311.0|    2|\n",
            "|          0.0|    40230.0|    1|\n",
            "|          0.0|   109896.0|    1|\n",
            "+-------------+-----------+-----+\n",
            "only showing top 20 rows\n",
            "\n"
          ]
        }
      ]
    },
    {
      "cell_type": "markdown",
      "source": [
        "### **Task 04** : \n",
        "\n",
        "Train and Test Data"
      ],
      "metadata": {
        "id": "c86zDiIv0UUM"
      }
    },
    {
      "cell_type": "code",
      "source": [
        "(training, test) = df_input.randomSplit([.7, .3])"
      ],
      "metadata": {
        "id": "JjG7iW6nz5Rf"
      },
      "execution_count": 118,
      "outputs": []
    },
    {
      "cell_type": "markdown",
      "source": [
        "### **Task 05** :\n",
        "\n",
        "Create recommendation model"
      ],
      "metadata": {
        "id": "5t6O3itr2V1n"
      }
    },
    {
      "cell_type": "code",
      "source": [
        "user_id = 'user_id_index'\n",
        "track = 'track_index'\n",
        "jumlah = 'count'\n",
        "\n",
        "als_model = ALS(maxIter=5, regParam=0.01, userCol=user_id, itemCol=track, ratingCol=jumlah)\n",
        "model = als_model.fit(training)\n",
        "\n",
        "prediction = model.transform(test)"
      ],
      "metadata": {
        "id": "aNcBQYI92GtL"
      },
      "execution_count": 125,
      "outputs": []
    },
    {
      "cell_type": "markdown",
      "source": [
        "### **Task 06** :\n",
        "\n",
        "Generate recommendation"
      ],
      "metadata": {
        "id": "nD2vWBrv6FME"
      }
    },
    {
      "cell_type": "code",
      "source": [
        "recs = model.recommendForAllUsers(20)\n",
        "recs.show()"
      ],
      "metadata": {
        "colab": {
          "base_uri": "https://localhost:8080/"
        },
        "id": "jvRZSE6G4GJ_",
        "outputId": "8ab5e818-5646-48d1-ce8c-78866301cb16"
      },
      "execution_count": 126,
      "outputs": [
        {
          "output_type": "stream",
          "name": "stderr",
          "text": [
            "/usr/local/lib/python3.7/dist-packages/pyspark/sql/context.py:127: FutureWarning:\n",
            "\n",
            "Deprecated in 3.0.0. Use SparkSession.builder.getOrCreate() instead.\n",
            "\n"
          ]
        },
        {
          "output_type": "stream",
          "name": "stdout",
          "text": [
            "+-------------+--------------------+\n",
            "|user_id_index|     recommendations|\n",
            "+-------------+--------------------+\n",
            "|            1|[{545, 74.612236}...|\n",
            "|            3|[{62550, 68.23176...|\n",
            "|            5|[{21660, 49.80922...|\n",
            "|            6|[{42304, 80.16428...|\n",
            "|            9|[{21660, 37.85268...|\n",
            "|           12|[{42304, 81.29059...|\n",
            "|           13|[{21660, 101.6205...|\n",
            "|           15|[{986, 53.72812},...|\n",
            "|           16|[{2388, 34.801487...|\n",
            "|           17|[{21660, 118.3237...|\n",
            "|           19|[{128836, 129.082...|\n",
            "|           20|[{128836, 123.777...|\n",
            "|           22|[{19053, 50.93999...|\n",
            "|           26|[{21660, 57.91284...|\n",
            "|           27|[{42304, 34.42514...|\n",
            "|           28|[{42304, 88.73574...|\n",
            "|           31|[{42304, 102.4374...|\n",
            "|           34|[{35664, 77.95498...|\n",
            "|           35|[{62550, 73.22162...|\n",
            "|           37|[{21660, 126.0305...|\n",
            "+-------------+--------------------+\n",
            "only showing top 20 rows\n",
            "\n"
          ]
        }
      ]
    },
    {
      "cell_type": "code",
      "source": [
        "recs.take(1)"
      ],
      "metadata": {
        "colab": {
          "base_uri": "https://localhost:8080/"
        },
        "id": "q7jSdlm-6v1z",
        "outputId": "b9ae5ff9-8a98-4fd6-eb11-ac85a1f31ec3"
      },
      "execution_count": 127,
      "outputs": [
        {
          "output_type": "execute_result",
          "data": {
            "text/plain": [
              "[Row(user_id_index=1, recommendations=[Row(track_index=545, rating=74.61223602294922), Row(track_index=145929, rating=61.45549011230469), Row(track_index=4569, rating=54.988037109375), Row(track_index=3234, rating=54.40743637084961), Row(track_index=28845, rating=51.935523986816406), Row(track_index=51642, rating=43.94091033935547), Row(track_index=3429, rating=43.565242767333984), Row(track_index=20901, rating=43.506221771240234), Row(track_index=7578, rating=43.450531005859375), Row(track_index=52447, rating=42.6649055480957), Row(track_index=36890, rating=42.6649055480957), Row(track_index=45639, rating=42.6649055480957), Row(track_index=4250, rating=42.58649826049805), Row(track_index=9246, rating=42.53297805786133), Row(track_index=51241, rating=42.225521087646484), Row(track_index=1575, rating=41.82406997680664), Row(track_index=62550, rating=41.7495231628418), Row(track_index=673, rating=41.48344802856445), Row(track_index=120587, rating=41.16279602050781), Row(track_index=145959, rating=40.9703254699707)])]"
            ]
          },
          "metadata": {},
          "execution_count": 127
        }
      ]
    },
    {
      "cell_type": "code",
      "source": [
        ""
      ],
      "metadata": {
        "id": "1haazbQC7lky"
      },
      "execution_count": null,
      "outputs": []
    }
  ]
}